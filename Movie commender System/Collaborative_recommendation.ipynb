{
  "nbformat": 4,
  "nbformat_minor": 0,
  "metadata": {
    "colab": {
      "provenance": []
    },
    "kernelspec": {
      "name": "python3",
      "display_name": "Python 3"
    },
    "language_info": {
      "name": "python"
    }
  },
  "cells": [
    {
      "cell_type": "markdown",
      "source": [
        "<b><h1><center>MovieLens Reccomdation "
      ],
      "metadata": {
        "id": "hu3EvxlEZh02"
      }
    },
    {
      "cell_type": "markdown",
      "source": [
        "202211014- Nikunj Rathod\n",
        "\n",
        "202211019- Jainisha Choksi\n",
        "\n",
        "202211036- Arjun Vankani\n",
        "\n",
        "202211055- Prathamesh Potdar"
      ],
      "metadata": {
        "id": "R6b0_MefYQGg"
      }
    },
    {
      "cell_type": "code",
      "execution_count": null,
      "metadata": {
        "id": "P3k-Ja7KLupB"
      },
      "outputs": [],
      "source": [
        "import pandas as pd\n",
        "import numpy as np\n",
        "from zipfile import ZipFile\n",
        "import tensorflow as tf\n",
        "from tensorflow import keras\n",
        "from tensorflow.keras import layers\n",
        "from pathlib import Path\n",
        "import matplotlib.pyplot as plt\n",
        "import seaborn as sns\n",
        "from tqdm import tqdm\n",
        "from sklearn.feature_extraction.text import CountVectorizer\n",
        "from sklearn import preprocessing\n",
        "import scipy\n",
        "import random\n",
        "from surprise import AlgoBase, Reader\n",
        "from surprise import Dataset\n",
        "from surprise.model_selection import cross_validate,train_test_split, GridSearchCV\n",
        "from sklearn.model_selection import train_test_split as sklearn_train_test_split\n",
        "from surprise import KNNWithZScore\n",
        "pd.set_option('display.max_colwidth', None)"
      ]
    },
    {
      "cell_type": "code",
      "source": [
        "df = pd.read_csv('/content/ratings.csv')\n",
        "df"
      ],
      "metadata": {
        "colab": {
          "base_uri": "https://localhost:8080/",
          "height": 423
        },
        "id": "kEW2PzB5MBxO",
        "outputId": "1af9a67f-7116-40f5-c450-3fe7ba020f61"
      },
      "execution_count": null,
      "outputs": [
        {
          "output_type": "execute_result",
          "data": {
            "text/plain": [
              "        userId  movieId  rating   timestamp\n",
              "0            1       31     2.5  1260759144\n",
              "1            1     1029     3.0  1260759179\n",
              "2            1     1061     3.0  1260759182\n",
              "3            1     1129     2.0  1260759185\n",
              "4            1     1172     4.0  1260759205\n",
              "...        ...      ...     ...         ...\n",
              "99999      671     6268     2.5  1065579370\n",
              "100000     671     6269     4.0  1065149201\n",
              "100001     671     6365     4.0  1070940363\n",
              "100002     671     6385     2.5  1070979663\n",
              "100003     671     6565     3.5  1074784724\n",
              "\n",
              "[100004 rows x 4 columns]"
            ],
            "text/html": [
              "\n",
              "  <div id=\"df-6cc94f60-4ca1-4257-9c38-0d418a0cfbbf\">\n",
              "    <div class=\"colab-df-container\">\n",
              "      <div>\n",
              "<style scoped>\n",
              "    .dataframe tbody tr th:only-of-type {\n",
              "        vertical-align: middle;\n",
              "    }\n",
              "\n",
              "    .dataframe tbody tr th {\n",
              "        vertical-align: top;\n",
              "    }\n",
              "\n",
              "    .dataframe thead th {\n",
              "        text-align: right;\n",
              "    }\n",
              "</style>\n",
              "<table border=\"1\" class=\"dataframe\">\n",
              "  <thead>\n",
              "    <tr style=\"text-align: right;\">\n",
              "      <th></th>\n",
              "      <th>userId</th>\n",
              "      <th>movieId</th>\n",
              "      <th>rating</th>\n",
              "      <th>timestamp</th>\n",
              "    </tr>\n",
              "  </thead>\n",
              "  <tbody>\n",
              "    <tr>\n",
              "      <th>0</th>\n",
              "      <td>1</td>\n",
              "      <td>31</td>\n",
              "      <td>2.5</td>\n",
              "      <td>1260759144</td>\n",
              "    </tr>\n",
              "    <tr>\n",
              "      <th>1</th>\n",
              "      <td>1</td>\n",
              "      <td>1029</td>\n",
              "      <td>3.0</td>\n",
              "      <td>1260759179</td>\n",
              "    </tr>\n",
              "    <tr>\n",
              "      <th>2</th>\n",
              "      <td>1</td>\n",
              "      <td>1061</td>\n",
              "      <td>3.0</td>\n",
              "      <td>1260759182</td>\n",
              "    </tr>\n",
              "    <tr>\n",
              "      <th>3</th>\n",
              "      <td>1</td>\n",
              "      <td>1129</td>\n",
              "      <td>2.0</td>\n",
              "      <td>1260759185</td>\n",
              "    </tr>\n",
              "    <tr>\n",
              "      <th>4</th>\n",
              "      <td>1</td>\n",
              "      <td>1172</td>\n",
              "      <td>4.0</td>\n",
              "      <td>1260759205</td>\n",
              "    </tr>\n",
              "    <tr>\n",
              "      <th>...</th>\n",
              "      <td>...</td>\n",
              "      <td>...</td>\n",
              "      <td>...</td>\n",
              "      <td>...</td>\n",
              "    </tr>\n",
              "    <tr>\n",
              "      <th>99999</th>\n",
              "      <td>671</td>\n",
              "      <td>6268</td>\n",
              "      <td>2.5</td>\n",
              "      <td>1065579370</td>\n",
              "    </tr>\n",
              "    <tr>\n",
              "      <th>100000</th>\n",
              "      <td>671</td>\n",
              "      <td>6269</td>\n",
              "      <td>4.0</td>\n",
              "      <td>1065149201</td>\n",
              "    </tr>\n",
              "    <tr>\n",
              "      <th>100001</th>\n",
              "      <td>671</td>\n",
              "      <td>6365</td>\n",
              "      <td>4.0</td>\n",
              "      <td>1070940363</td>\n",
              "    </tr>\n",
              "    <tr>\n",
              "      <th>100002</th>\n",
              "      <td>671</td>\n",
              "      <td>6385</td>\n",
              "      <td>2.5</td>\n",
              "      <td>1070979663</td>\n",
              "    </tr>\n",
              "    <tr>\n",
              "      <th>100003</th>\n",
              "      <td>671</td>\n",
              "      <td>6565</td>\n",
              "      <td>3.5</td>\n",
              "      <td>1074784724</td>\n",
              "    </tr>\n",
              "  </tbody>\n",
              "</table>\n",
              "<p>100004 rows × 4 columns</p>\n",
              "</div>\n",
              "      <button class=\"colab-df-convert\" onclick=\"convertToInteractive('df-6cc94f60-4ca1-4257-9c38-0d418a0cfbbf')\"\n",
              "              title=\"Convert this dataframe to an interactive table.\"\n",
              "              style=\"display:none;\">\n",
              "        \n",
              "  <svg xmlns=\"http://www.w3.org/2000/svg\" height=\"24px\"viewBox=\"0 0 24 24\"\n",
              "       width=\"24px\">\n",
              "    <path d=\"M0 0h24v24H0V0z\" fill=\"none\"/>\n",
              "    <path d=\"M18.56 5.44l.94 2.06.94-2.06 2.06-.94-2.06-.94-.94-2.06-.94 2.06-2.06.94zm-11 1L8.5 8.5l.94-2.06 2.06-.94-2.06-.94L8.5 2.5l-.94 2.06-2.06.94zm10 10l.94 2.06.94-2.06 2.06-.94-2.06-.94-.94-2.06-.94 2.06-2.06.94z\"/><path d=\"M17.41 7.96l-1.37-1.37c-.4-.4-.92-.59-1.43-.59-.52 0-1.04.2-1.43.59L10.3 9.45l-7.72 7.72c-.78.78-.78 2.05 0 2.83L4 21.41c.39.39.9.59 1.41.59.51 0 1.02-.2 1.41-.59l7.78-7.78 2.81-2.81c.8-.78.8-2.07 0-2.86zM5.41 20L4 18.59l7.72-7.72 1.47 1.35L5.41 20z\"/>\n",
              "  </svg>\n",
              "      </button>\n",
              "      \n",
              "  <style>\n",
              "    .colab-df-container {\n",
              "      display:flex;\n",
              "      flex-wrap:wrap;\n",
              "      gap: 12px;\n",
              "    }\n",
              "\n",
              "    .colab-df-convert {\n",
              "      background-color: #E8F0FE;\n",
              "      border: none;\n",
              "      border-radius: 50%;\n",
              "      cursor: pointer;\n",
              "      display: none;\n",
              "      fill: #1967D2;\n",
              "      height: 32px;\n",
              "      padding: 0 0 0 0;\n",
              "      width: 32px;\n",
              "    }\n",
              "\n",
              "    .colab-df-convert:hover {\n",
              "      background-color: #E2EBFA;\n",
              "      box-shadow: 0px 1px 2px rgba(60, 64, 67, 0.3), 0px 1px 3px 1px rgba(60, 64, 67, 0.15);\n",
              "      fill: #174EA6;\n",
              "    }\n",
              "\n",
              "    [theme=dark] .colab-df-convert {\n",
              "      background-color: #3B4455;\n",
              "      fill: #D2E3FC;\n",
              "    }\n",
              "\n",
              "    [theme=dark] .colab-df-convert:hover {\n",
              "      background-color: #434B5C;\n",
              "      box-shadow: 0px 1px 3px 1px rgba(0, 0, 0, 0.15);\n",
              "      filter: drop-shadow(0px 1px 2px rgba(0, 0, 0, 0.3));\n",
              "      fill: #FFFFFF;\n",
              "    }\n",
              "  </style>\n",
              "\n",
              "      <script>\n",
              "        const buttonEl =\n",
              "          document.querySelector('#df-6cc94f60-4ca1-4257-9c38-0d418a0cfbbf button.colab-df-convert');\n",
              "        buttonEl.style.display =\n",
              "          google.colab.kernel.accessAllowed ? 'block' : 'none';\n",
              "\n",
              "        async function convertToInteractive(key) {\n",
              "          const element = document.querySelector('#df-6cc94f60-4ca1-4257-9c38-0d418a0cfbbf');\n",
              "          const dataTable =\n",
              "            await google.colab.kernel.invokeFunction('convertToInteractive',\n",
              "                                                     [key], {});\n",
              "          if (!dataTable) return;\n",
              "\n",
              "          const docLinkHtml = 'Like what you see? Visit the ' +\n",
              "            '<a target=\"_blank\" href=https://colab.research.google.com/notebooks/data_table.ipynb>data table notebook</a>'\n",
              "            + ' to learn more about interactive tables.';\n",
              "          element.innerHTML = '';\n",
              "          dataTable['output_type'] = 'display_data';\n",
              "          await google.colab.output.renderOutput(dataTable, element);\n",
              "          const docLink = document.createElement('div');\n",
              "          docLink.innerHTML = docLinkHtml;\n",
              "          element.appendChild(docLink);\n",
              "        }\n",
              "      </script>\n",
              "    </div>\n",
              "  </div>\n",
              "  "
            ]
          },
          "metadata": {},
          "execution_count": 4
        }
      ]
    },
    {
      "cell_type": "code",
      "source": [
        "df.describe()"
      ],
      "metadata": {
        "colab": {
          "base_uri": "https://localhost:8080/",
          "height": 300
        },
        "id": "Xhk-NOYzMzsc",
        "outputId": "db249b21-1610-49fa-cb8d-b2076e29537c"
      },
      "execution_count": null,
      "outputs": [
        {
          "output_type": "execute_result",
          "data": {
            "text/plain": [
              "              userId        movieId         rating     timestamp\n",
              "count  100004.000000  100004.000000  100004.000000  1.000040e+05\n",
              "mean      347.011310   12548.664363       3.543608  1.129639e+09\n",
              "std       195.163838   26369.198969       1.058064  1.916858e+08\n",
              "min         1.000000       1.000000       0.500000  7.896520e+08\n",
              "25%       182.000000    1028.000000       3.000000  9.658478e+08\n",
              "50%       367.000000    2406.500000       4.000000  1.110422e+09\n",
              "75%       520.000000    5418.000000       4.000000  1.296192e+09\n",
              "max       671.000000  163949.000000       5.000000  1.476641e+09"
            ],
            "text/html": [
              "\n",
              "  <div id=\"df-12fd9cb7-29b5-4639-aa73-4fc1b48df5ae\">\n",
              "    <div class=\"colab-df-container\">\n",
              "      <div>\n",
              "<style scoped>\n",
              "    .dataframe tbody tr th:only-of-type {\n",
              "        vertical-align: middle;\n",
              "    }\n",
              "\n",
              "    .dataframe tbody tr th {\n",
              "        vertical-align: top;\n",
              "    }\n",
              "\n",
              "    .dataframe thead th {\n",
              "        text-align: right;\n",
              "    }\n",
              "</style>\n",
              "<table border=\"1\" class=\"dataframe\">\n",
              "  <thead>\n",
              "    <tr style=\"text-align: right;\">\n",
              "      <th></th>\n",
              "      <th>userId</th>\n",
              "      <th>movieId</th>\n",
              "      <th>rating</th>\n",
              "      <th>timestamp</th>\n",
              "    </tr>\n",
              "  </thead>\n",
              "  <tbody>\n",
              "    <tr>\n",
              "      <th>count</th>\n",
              "      <td>100004.000000</td>\n",
              "      <td>100004.000000</td>\n",
              "      <td>100004.000000</td>\n",
              "      <td>1.000040e+05</td>\n",
              "    </tr>\n",
              "    <tr>\n",
              "      <th>mean</th>\n",
              "      <td>347.011310</td>\n",
              "      <td>12548.664363</td>\n",
              "      <td>3.543608</td>\n",
              "      <td>1.129639e+09</td>\n",
              "    </tr>\n",
              "    <tr>\n",
              "      <th>std</th>\n",
              "      <td>195.163838</td>\n",
              "      <td>26369.198969</td>\n",
              "      <td>1.058064</td>\n",
              "      <td>1.916858e+08</td>\n",
              "    </tr>\n",
              "    <tr>\n",
              "      <th>min</th>\n",
              "      <td>1.000000</td>\n",
              "      <td>1.000000</td>\n",
              "      <td>0.500000</td>\n",
              "      <td>7.896520e+08</td>\n",
              "    </tr>\n",
              "    <tr>\n",
              "      <th>25%</th>\n",
              "      <td>182.000000</td>\n",
              "      <td>1028.000000</td>\n",
              "      <td>3.000000</td>\n",
              "      <td>9.658478e+08</td>\n",
              "    </tr>\n",
              "    <tr>\n",
              "      <th>50%</th>\n",
              "      <td>367.000000</td>\n",
              "      <td>2406.500000</td>\n",
              "      <td>4.000000</td>\n",
              "      <td>1.110422e+09</td>\n",
              "    </tr>\n",
              "    <tr>\n",
              "      <th>75%</th>\n",
              "      <td>520.000000</td>\n",
              "      <td>5418.000000</td>\n",
              "      <td>4.000000</td>\n",
              "      <td>1.296192e+09</td>\n",
              "    </tr>\n",
              "    <tr>\n",
              "      <th>max</th>\n",
              "      <td>671.000000</td>\n",
              "      <td>163949.000000</td>\n",
              "      <td>5.000000</td>\n",
              "      <td>1.476641e+09</td>\n",
              "    </tr>\n",
              "  </tbody>\n",
              "</table>\n",
              "</div>\n",
              "      <button class=\"colab-df-convert\" onclick=\"convertToInteractive('df-12fd9cb7-29b5-4639-aa73-4fc1b48df5ae')\"\n",
              "              title=\"Convert this dataframe to an interactive table.\"\n",
              "              style=\"display:none;\">\n",
              "        \n",
              "  <svg xmlns=\"http://www.w3.org/2000/svg\" height=\"24px\"viewBox=\"0 0 24 24\"\n",
              "       width=\"24px\">\n",
              "    <path d=\"M0 0h24v24H0V0z\" fill=\"none\"/>\n",
              "    <path d=\"M18.56 5.44l.94 2.06.94-2.06 2.06-.94-2.06-.94-.94-2.06-.94 2.06-2.06.94zm-11 1L8.5 8.5l.94-2.06 2.06-.94-2.06-.94L8.5 2.5l-.94 2.06-2.06.94zm10 10l.94 2.06.94-2.06 2.06-.94-2.06-.94-.94-2.06-.94 2.06-2.06.94z\"/><path d=\"M17.41 7.96l-1.37-1.37c-.4-.4-.92-.59-1.43-.59-.52 0-1.04.2-1.43.59L10.3 9.45l-7.72 7.72c-.78.78-.78 2.05 0 2.83L4 21.41c.39.39.9.59 1.41.59.51 0 1.02-.2 1.41-.59l7.78-7.78 2.81-2.81c.8-.78.8-2.07 0-2.86zM5.41 20L4 18.59l7.72-7.72 1.47 1.35L5.41 20z\"/>\n",
              "  </svg>\n",
              "      </button>\n",
              "      \n",
              "  <style>\n",
              "    .colab-df-container {\n",
              "      display:flex;\n",
              "      flex-wrap:wrap;\n",
              "      gap: 12px;\n",
              "    }\n",
              "\n",
              "    .colab-df-convert {\n",
              "      background-color: #E8F0FE;\n",
              "      border: none;\n",
              "      border-radius: 50%;\n",
              "      cursor: pointer;\n",
              "      display: none;\n",
              "      fill: #1967D2;\n",
              "      height: 32px;\n",
              "      padding: 0 0 0 0;\n",
              "      width: 32px;\n",
              "    }\n",
              "\n",
              "    .colab-df-convert:hover {\n",
              "      background-color: #E2EBFA;\n",
              "      box-shadow: 0px 1px 2px rgba(60, 64, 67, 0.3), 0px 1px 3px 1px rgba(60, 64, 67, 0.15);\n",
              "      fill: #174EA6;\n",
              "    }\n",
              "\n",
              "    [theme=dark] .colab-df-convert {\n",
              "      background-color: #3B4455;\n",
              "      fill: #D2E3FC;\n",
              "    }\n",
              "\n",
              "    [theme=dark] .colab-df-convert:hover {\n",
              "      background-color: #434B5C;\n",
              "      box-shadow: 0px 1px 3px 1px rgba(0, 0, 0, 0.15);\n",
              "      filter: drop-shadow(0px 1px 2px rgba(0, 0, 0, 0.3));\n",
              "      fill: #FFFFFF;\n",
              "    }\n",
              "  </style>\n",
              "\n",
              "      <script>\n",
              "        const buttonEl =\n",
              "          document.querySelector('#df-12fd9cb7-29b5-4639-aa73-4fc1b48df5ae button.colab-df-convert');\n",
              "        buttonEl.style.display =\n",
              "          google.colab.kernel.accessAllowed ? 'block' : 'none';\n",
              "\n",
              "        async function convertToInteractive(key) {\n",
              "          const element = document.querySelector('#df-12fd9cb7-29b5-4639-aa73-4fc1b48df5ae');\n",
              "          const dataTable =\n",
              "            await google.colab.kernel.invokeFunction('convertToInteractive',\n",
              "                                                     [key], {});\n",
              "          if (!dataTable) return;\n",
              "\n",
              "          const docLinkHtml = 'Like what you see? Visit the ' +\n",
              "            '<a target=\"_blank\" href=https://colab.research.google.com/notebooks/data_table.ipynb>data table notebook</a>'\n",
              "            + ' to learn more about interactive tables.';\n",
              "          element.innerHTML = '';\n",
              "          dataTable['output_type'] = 'display_data';\n",
              "          await google.colab.output.renderOutput(dataTable, element);\n",
              "          const docLink = document.createElement('div');\n",
              "          docLink.innerHTML = docLinkHtml;\n",
              "          element.appendChild(docLink);\n",
              "        }\n",
              "      </script>\n",
              "    </div>\n",
              "  </div>\n",
              "  "
            ]
          },
          "metadata": {},
          "execution_count": 7
        }
      ]
    },
    {
      "cell_type": "code",
      "source": [
        "df.info()"
      ],
      "metadata": {
        "colab": {
          "base_uri": "https://localhost:8080/"
        },
        "id": "_n6TDeY6M3DN",
        "outputId": "a1069a90-59ac-4b38-c957-cc49a58d75ae"
      },
      "execution_count": null,
      "outputs": [
        {
          "output_type": "stream",
          "name": "stdout",
          "text": [
            "<class 'pandas.core.frame.DataFrame'>\n",
            "RangeIndex: 100004 entries, 0 to 100003\n",
            "Data columns (total 4 columns):\n",
            " #   Column     Non-Null Count   Dtype  \n",
            "---  ------     --------------   -----  \n",
            " 0   userId     100004 non-null  int64  \n",
            " 1   movieId    100004 non-null  int64  \n",
            " 2   rating     100004 non-null  float64\n",
            " 3   timestamp  100004 non-null  int64  \n",
            "dtypes: float64(1), int64(3)\n",
            "memory usage: 3.1 MB\n"
          ]
        }
      ]
    },
    {
      "cell_type": "code",
      "source": [
        "movie_data = pd.read_csv(\"/content/movies.csv\")\n",
        "movie_data"
      ],
      "metadata": {
        "colab": {
          "base_uri": "https://localhost:8080/",
          "height": 423
        },
        "id": "oGH65aHLVkJd",
        "outputId": "1f6dadeb-4e90-44ee-9c99-f8e71d23e38c"
      },
      "execution_count": null,
      "outputs": [
        {
          "output_type": "execute_result",
          "data": {
            "text/plain": [
              "      movieId                                                      title  \\\n",
              "0           1                                           Toy Story (1995)   \n",
              "1           2                                             Jumanji (1995)   \n",
              "2           3                                    Grumpier Old Men (1995)   \n",
              "3           4                                   Waiting to Exhale (1995)   \n",
              "4           5                         Father of the Bride Part II (1995)   \n",
              "...       ...                                                        ...   \n",
              "9120   162672                                        Mohenjo Daro (2016)   \n",
              "9121   163056                                       Shin Godzilla (2016)   \n",
              "9122   163949  The Beatles: Eight Days a Week - The Touring Years (2016)   \n",
              "9123   164977                                   The Gay Desperado (1936)   \n",
              "9124   164979                                      Women of '69, Unboxed   \n",
              "\n",
              "                                           genres  \n",
              "0     Adventure|Animation|Children|Comedy|Fantasy  \n",
              "1                      Adventure|Children|Fantasy  \n",
              "2                                  Comedy|Romance  \n",
              "3                            Comedy|Drama|Romance  \n",
              "4                                          Comedy  \n",
              "...                                           ...  \n",
              "9120                      Adventure|Drama|Romance  \n",
              "9121              Action|Adventure|Fantasy|Sci-Fi  \n",
              "9122                                  Documentary  \n",
              "9123                                       Comedy  \n",
              "9124                                  Documentary  \n",
              "\n",
              "[9125 rows x 3 columns]"
            ],
            "text/html": [
              "\n",
              "  <div id=\"df-b037a4e8-c484-4406-8fe1-f6d9b853d82b\">\n",
              "    <div class=\"colab-df-container\">\n",
              "      <div>\n",
              "<style scoped>\n",
              "    .dataframe tbody tr th:only-of-type {\n",
              "        vertical-align: middle;\n",
              "    }\n",
              "\n",
              "    .dataframe tbody tr th {\n",
              "        vertical-align: top;\n",
              "    }\n",
              "\n",
              "    .dataframe thead th {\n",
              "        text-align: right;\n",
              "    }\n",
              "</style>\n",
              "<table border=\"1\" class=\"dataframe\">\n",
              "  <thead>\n",
              "    <tr style=\"text-align: right;\">\n",
              "      <th></th>\n",
              "      <th>movieId</th>\n",
              "      <th>title</th>\n",
              "      <th>genres</th>\n",
              "    </tr>\n",
              "  </thead>\n",
              "  <tbody>\n",
              "    <tr>\n",
              "      <th>0</th>\n",
              "      <td>1</td>\n",
              "      <td>Toy Story (1995)</td>\n",
              "      <td>Adventure|Animation|Children|Comedy|Fantasy</td>\n",
              "    </tr>\n",
              "    <tr>\n",
              "      <th>1</th>\n",
              "      <td>2</td>\n",
              "      <td>Jumanji (1995)</td>\n",
              "      <td>Adventure|Children|Fantasy</td>\n",
              "    </tr>\n",
              "    <tr>\n",
              "      <th>2</th>\n",
              "      <td>3</td>\n",
              "      <td>Grumpier Old Men (1995)</td>\n",
              "      <td>Comedy|Romance</td>\n",
              "    </tr>\n",
              "    <tr>\n",
              "      <th>3</th>\n",
              "      <td>4</td>\n",
              "      <td>Waiting to Exhale (1995)</td>\n",
              "      <td>Comedy|Drama|Romance</td>\n",
              "    </tr>\n",
              "    <tr>\n",
              "      <th>4</th>\n",
              "      <td>5</td>\n",
              "      <td>Father of the Bride Part II (1995)</td>\n",
              "      <td>Comedy</td>\n",
              "    </tr>\n",
              "    <tr>\n",
              "      <th>...</th>\n",
              "      <td>...</td>\n",
              "      <td>...</td>\n",
              "      <td>...</td>\n",
              "    </tr>\n",
              "    <tr>\n",
              "      <th>9120</th>\n",
              "      <td>162672</td>\n",
              "      <td>Mohenjo Daro (2016)</td>\n",
              "      <td>Adventure|Drama|Romance</td>\n",
              "    </tr>\n",
              "    <tr>\n",
              "      <th>9121</th>\n",
              "      <td>163056</td>\n",
              "      <td>Shin Godzilla (2016)</td>\n",
              "      <td>Action|Adventure|Fantasy|Sci-Fi</td>\n",
              "    </tr>\n",
              "    <tr>\n",
              "      <th>9122</th>\n",
              "      <td>163949</td>\n",
              "      <td>The Beatles: Eight Days a Week - The Touring Years (2016)</td>\n",
              "      <td>Documentary</td>\n",
              "    </tr>\n",
              "    <tr>\n",
              "      <th>9123</th>\n",
              "      <td>164977</td>\n",
              "      <td>The Gay Desperado (1936)</td>\n",
              "      <td>Comedy</td>\n",
              "    </tr>\n",
              "    <tr>\n",
              "      <th>9124</th>\n",
              "      <td>164979</td>\n",
              "      <td>Women of '69, Unboxed</td>\n",
              "      <td>Documentary</td>\n",
              "    </tr>\n",
              "  </tbody>\n",
              "</table>\n",
              "<p>9125 rows × 3 columns</p>\n",
              "</div>\n",
              "      <button class=\"colab-df-convert\" onclick=\"convertToInteractive('df-b037a4e8-c484-4406-8fe1-f6d9b853d82b')\"\n",
              "              title=\"Convert this dataframe to an interactive table.\"\n",
              "              style=\"display:none;\">\n",
              "        \n",
              "  <svg xmlns=\"http://www.w3.org/2000/svg\" height=\"24px\"viewBox=\"0 0 24 24\"\n",
              "       width=\"24px\">\n",
              "    <path d=\"M0 0h24v24H0V0z\" fill=\"none\"/>\n",
              "    <path d=\"M18.56 5.44l.94 2.06.94-2.06 2.06-.94-2.06-.94-.94-2.06-.94 2.06-2.06.94zm-11 1L8.5 8.5l.94-2.06 2.06-.94-2.06-.94L8.5 2.5l-.94 2.06-2.06.94zm10 10l.94 2.06.94-2.06 2.06-.94-2.06-.94-.94-2.06-.94 2.06-2.06.94z\"/><path d=\"M17.41 7.96l-1.37-1.37c-.4-.4-.92-.59-1.43-.59-.52 0-1.04.2-1.43.59L10.3 9.45l-7.72 7.72c-.78.78-.78 2.05 0 2.83L4 21.41c.39.39.9.59 1.41.59.51 0 1.02-.2 1.41-.59l7.78-7.78 2.81-2.81c.8-.78.8-2.07 0-2.86zM5.41 20L4 18.59l7.72-7.72 1.47 1.35L5.41 20z\"/>\n",
              "  </svg>\n",
              "      </button>\n",
              "      \n",
              "  <style>\n",
              "    .colab-df-container {\n",
              "      display:flex;\n",
              "      flex-wrap:wrap;\n",
              "      gap: 12px;\n",
              "    }\n",
              "\n",
              "    .colab-df-convert {\n",
              "      background-color: #E8F0FE;\n",
              "      border: none;\n",
              "      border-radius: 50%;\n",
              "      cursor: pointer;\n",
              "      display: none;\n",
              "      fill: #1967D2;\n",
              "      height: 32px;\n",
              "      padding: 0 0 0 0;\n",
              "      width: 32px;\n",
              "    }\n",
              "\n",
              "    .colab-df-convert:hover {\n",
              "      background-color: #E2EBFA;\n",
              "      box-shadow: 0px 1px 2px rgba(60, 64, 67, 0.3), 0px 1px 3px 1px rgba(60, 64, 67, 0.15);\n",
              "      fill: #174EA6;\n",
              "    }\n",
              "\n",
              "    [theme=dark] .colab-df-convert {\n",
              "      background-color: #3B4455;\n",
              "      fill: #D2E3FC;\n",
              "    }\n",
              "\n",
              "    [theme=dark] .colab-df-convert:hover {\n",
              "      background-color: #434B5C;\n",
              "      box-shadow: 0px 1px 3px 1px rgba(0, 0, 0, 0.15);\n",
              "      filter: drop-shadow(0px 1px 2px rgba(0, 0, 0, 0.3));\n",
              "      fill: #FFFFFF;\n",
              "    }\n",
              "  </style>\n",
              "\n",
              "      <script>\n",
              "        const buttonEl =\n",
              "          document.querySelector('#df-b037a4e8-c484-4406-8fe1-f6d9b853d82b button.colab-df-convert');\n",
              "        buttonEl.style.display =\n",
              "          google.colab.kernel.accessAllowed ? 'block' : 'none';\n",
              "\n",
              "        async function convertToInteractive(key) {\n",
              "          const element = document.querySelector('#df-b037a4e8-c484-4406-8fe1-f6d9b853d82b');\n",
              "          const dataTable =\n",
              "            await google.colab.kernel.invokeFunction('convertToInteractive',\n",
              "                                                     [key], {});\n",
              "          if (!dataTable) return;\n",
              "\n",
              "          const docLinkHtml = 'Like what you see? Visit the ' +\n",
              "            '<a target=\"_blank\" href=https://colab.research.google.com/notebooks/data_table.ipynb>data table notebook</a>'\n",
              "            + ' to learn more about interactive tables.';\n",
              "          element.innerHTML = '';\n",
              "          dataTable['output_type'] = 'display_data';\n",
              "          await google.colab.output.renderOutput(dataTable, element);\n",
              "          const docLink = document.createElement('div');\n",
              "          docLink.innerHTML = docLinkHtml;\n",
              "          element.appendChild(docLink);\n",
              "        }\n",
              "      </script>\n",
              "    </div>\n",
              "  </div>\n",
              "  "
            ]
          },
          "metadata": {},
          "execution_count": 56
        }
      ]
    },
    {
      "cell_type": "code",
      "source": [
        "movie_data.info()"
      ],
      "metadata": {
        "colab": {
          "base_uri": "https://localhost:8080/"
        },
        "id": "myHp4yZtVrxj",
        "outputId": "a56ed9a8-1fea-4ef3-a750-40aedebb3f67"
      },
      "execution_count": null,
      "outputs": [
        {
          "output_type": "stream",
          "name": "stdout",
          "text": [
            "<class 'pandas.core.frame.DataFrame'>\n",
            "RangeIndex: 9125 entries, 0 to 9124\n",
            "Data columns (total 3 columns):\n",
            " #   Column   Non-Null Count  Dtype \n",
            "---  ------   --------------  ----- \n",
            " 0   movieId  9125 non-null   int64 \n",
            " 1   title    9125 non-null   object\n",
            " 2   genres   9125 non-null   object\n",
            "dtypes: int64(1), object(2)\n",
            "memory usage: 214.0+ KB\n"
          ]
        }
      ]
    },
    {
      "cell_type": "code",
      "source": [
        "no_genre_listed = \"(no genres listed)\"\n",
        "movie_data[\"genres\"] = movie_data[\"genres\"].apply(lambda genres: [ genre for genre in genres.split('|') if genre != no_genre_listed ])"
      ],
      "metadata": {
        "id": "5jupjsoEWJZm"
      },
      "execution_count": null,
      "outputs": []
    },
    {
      "cell_type": "code",
      "source": [
        "movie_data =  movie_data.dropna()\n",
        "movie_data.shape"
      ],
      "metadata": {
        "colab": {
          "base_uri": "https://localhost:8080/"
        },
        "id": "BUEOsO7JVu7B",
        "outputId": "1dc7d397-4efb-4e90-bd47-7c15efdf2e28"
      },
      "execution_count": null,
      "outputs": [
        {
          "output_type": "execute_result",
          "data": {
            "text/plain": [
              "(9125, 3)"
            ]
          },
          "metadata": {},
          "execution_count": 63
        }
      ]
    },
    {
      "cell_type": "code",
      "source": [
        "genres_merged = movie_data[\"genres\"].apply(lambda genres: \" \".join(genres))\n",
        "genres_vectorizer = CountVectorizer(token_pattern=\"(?u)\\\\b[\\\\w-]+\\\\b\")\n",
        "genres_count_matrix = genres_vectorizer.fit_transform(genres_merged.tolist())"
      ],
      "metadata": {
        "id": "GwdN0pY8WBsK"
      },
      "execution_count": null,
      "outputs": []
    },
    {
      "cell_type": "code",
      "source": [
        "print(\"Total genres of movies : \" + str(len(genres_vectorizer.vocabulary_)))"
      ],
      "metadata": {
        "colab": {
          "base_uri": "https://localhost:8080/"
        },
        "id": "gvYvgvfRWBYd",
        "outputId": "b94c0d6d-0ebf-428a-e9bc-a8f4469d9b35"
      },
      "execution_count": null,
      "outputs": [
        {
          "output_type": "stream",
          "name": "stdout",
          "text": [
            "Total genres of movies : 19\n"
          ]
        }
      ]
    },
    {
      "cell_type": "code",
      "source": [
        "user_ids = df[\"userId\"].unique().tolist()"
      ],
      "metadata": {
        "id": "8y_h-gnlM5wi"
      },
      "execution_count": null,
      "outputs": []
    },
    {
      "cell_type": "code",
      "source": [
        "user2user_encoded = {x: i for i, x in enumerate(user_ids)}\n",
        "userencoded2user = {i: x for i, x in enumerate(user_ids)}\n",
        "\n",
        "num_users = len(user2user_encoded)\n",
        "print(\"Number of Users : \" +str(num_users))"
      ],
      "metadata": {
        "id": "Wxwa07O8VPVh",
        "colab": {
          "base_uri": "https://localhost:8080/"
        },
        "outputId": "7868e4cd-79af-4fc4-b077-5f3721dd3542"
      },
      "execution_count": null,
      "outputs": [
        {
          "output_type": "stream",
          "name": "stdout",
          "text": [
            "Number of Users : 671\n"
          ]
        }
      ]
    },
    {
      "cell_type": "code",
      "source": [
        "df[\"user\"] = df[\"userId\"].map(user2user_encoded)\n",
        "df['user']"
      ],
      "metadata": {
        "colab": {
          "base_uri": "https://localhost:8080/"
        },
        "id": "CYtFgII1O7em",
        "outputId": "e96e88c4-925e-45f1-ed2d-3db78b896093"
      },
      "execution_count": null,
      "outputs": [
        {
          "output_type": "execute_result",
          "data": {
            "text/plain": [
              "19090    127\n",
              "99678    664\n",
              "18455    119\n",
              "35755    256\n",
              "66536    467\n",
              "        ... \n",
              "6265      32\n",
              "54886    393\n",
              "76820    531\n",
              "860       11\n",
              "15795    101\n",
              "Name: user, Length: 100004, dtype: int64"
            ]
          },
          "metadata": {},
          "execution_count": 37
        }
      ]
    },
    {
      "cell_type": "code",
      "source": [
        "movie_ids = df[\"movieId\"].unique().tolist()\n",
        "\n",
        "movie2movie_encoded = {x: i for i, x in enumerate(movie_ids)}\n",
        "movie_encoded2movie = {i: x for i, x in enumerate(movie_ids)}\n",
        "\n",
        "num_movies = len(movie2movie_encoded)\n",
        "print(\"Number of movies : \" +str(num_movies))"
      ],
      "metadata": {
        "colab": {
          "base_uri": "https://localhost:8080/"
        },
        "id": "uQuJIK11M5qq",
        "outputId": "7b8a90bd-aed2-40ec-8061-d5e736bf6b5c"
      },
      "execution_count": null,
      "outputs": [
        {
          "output_type": "stream",
          "name": "stdout",
          "text": [
            "Number of movies : 7072\n"
          ]
        }
      ]
    },
    {
      "cell_type": "code",
      "source": [
        "df[\"movie\"] = df[\"movieId\"].map(movie2movie_encoded)\n",
        "df['movie']"
      ],
      "metadata": {
        "colab": {
          "base_uri": "https://localhost:8080/"
        },
        "id": "GzPa4pVLO-Y4",
        "outputId": "b331a45f-560a-4f0e-a670-c11b7265bda8"
      },
      "execution_count": null,
      "outputs": [
        {
          "output_type": "execute_result",
          "data": {
            "text/plain": [
              "19090     165\n",
              "99678    9064\n",
              "18455    2763\n",
              "35755    2190\n",
              "66536    1333\n",
              "         ... \n",
              "6265     1098\n",
              "54886      64\n",
              "76820    2199\n",
              "860       346\n",
              "15795      17\n",
              "Name: movie, Length: 100004, dtype: int64"
            ]
          },
          "metadata": {},
          "execution_count": 38
        }
      ]
    },
    {
      "cell_type": "code",
      "source": [
        "df['rating'] = df['rating'].values.astype(np.float32)\n",
        "df['rating']"
      ],
      "metadata": {
        "colab": {
          "base_uri": "https://localhost:8080/"
        },
        "id": "Hs0W_HjhO_hj",
        "outputId": "a5223e40-316c-43bf-b41f-46dacb735c56"
      },
      "execution_count": null,
      "outputs": [
        {
          "output_type": "execute_result",
          "data": {
            "text/plain": [
              "19090    5.0\n",
              "99678    1.0\n",
              "18455    3.0\n",
              "35755    4.0\n",
              "66536    4.0\n",
              "        ... \n",
              "6265     5.0\n",
              "54886    3.0\n",
              "76820    3.5\n",
              "860      4.0\n",
              "15795    3.0\n",
              "Name: rating, Length: 100004, dtype: float32"
            ]
          },
          "metadata": {},
          "execution_count": 39
        }
      ]
    },
    {
      "cell_type": "code",
      "source": [
        "min_rating = min(df[\"rating\"])\n",
        "print(\"Minimum rating: \"+str(min_rating))"
      ],
      "metadata": {
        "colab": {
          "base_uri": "https://localhost:8080/"
        },
        "id": "ClzE2s8mO_fB",
        "outputId": "65a08019-56e2-4d85-bcff-0d9bebdf661d"
      },
      "execution_count": null,
      "outputs": [
        {
          "output_type": "stream",
          "name": "stdout",
          "text": [
            "Minimum rating: 0.5\n"
          ]
        }
      ]
    },
    {
      "cell_type": "code",
      "source": [
        "max_rating = max(df[\"rating\"])\n",
        "print(\"Maximum rating: \"+str(max_rating))"
      ],
      "metadata": {
        "colab": {
          "base_uri": "https://localhost:8080/"
        },
        "id": "jfDXdjL1O_cv",
        "outputId": "6af09e1a-c9ec-48ab-deb3-aaa26db9121e"
      },
      "execution_count": null,
      "outputs": [
        {
          "output_type": "stream",
          "name": "stdout",
          "text": [
            "Maximum rating: 5.0\n"
          ]
        }
      ]
    },
    {
      "cell_type": "code",
      "source": [
        "df = df.sample(frac=.5, random_state=42)\n",
        "df"
      ],
      "metadata": {
        "colab": {
          "base_uri": "https://localhost:8080/",
          "height": 423
        },
        "id": "_symxzvHO_aE",
        "outputId": "b32fb8d0-814e-4a7c-86a7-dedd0a77ead6"
      },
      "execution_count": null,
      "outputs": [
        {
          "output_type": "execute_result",
          "data": {
            "text/plain": [
              "       userId  movieId  rating   timestamp  user  movie\n",
              "75296     522    53322     3.5  1391353596   521   1522\n",
              "86416     577     7569     5.0  1111476697   576   1402\n",
              "68327     475     5478     2.0  1447327895   474   1274\n",
              "4884       26    31410     2.0  1352838206    25   2055\n",
              "26048     190     2622     4.0   975694759   189   3114\n",
              "...       ...      ...     ...         ...   ...    ...\n",
              "2397       15    87520     4.5  1316396021    14   1684\n",
              "15197      99     2006     3.0   947519629    98    876\n",
              "64429     461     2108     2.0  1091959304   460    535\n",
              "6510       35     1188     0.5  1174450079    34   2289\n",
              "39709     291       47     4.5  1111489466   290     23\n",
              "\n",
              "[50002 rows x 6 columns]"
            ],
            "text/html": [
              "\n",
              "  <div id=\"df-fdf40efb-cd9c-4fc9-a6b2-1eacaf8961ff\">\n",
              "    <div class=\"colab-df-container\">\n",
              "      <div>\n",
              "<style scoped>\n",
              "    .dataframe tbody tr th:only-of-type {\n",
              "        vertical-align: middle;\n",
              "    }\n",
              "\n",
              "    .dataframe tbody tr th {\n",
              "        vertical-align: top;\n",
              "    }\n",
              "\n",
              "    .dataframe thead th {\n",
              "        text-align: right;\n",
              "    }\n",
              "</style>\n",
              "<table border=\"1\" class=\"dataframe\">\n",
              "  <thead>\n",
              "    <tr style=\"text-align: right;\">\n",
              "      <th></th>\n",
              "      <th>userId</th>\n",
              "      <th>movieId</th>\n",
              "      <th>rating</th>\n",
              "      <th>timestamp</th>\n",
              "      <th>user</th>\n",
              "      <th>movie</th>\n",
              "    </tr>\n",
              "  </thead>\n",
              "  <tbody>\n",
              "    <tr>\n",
              "      <th>75296</th>\n",
              "      <td>522</td>\n",
              "      <td>53322</td>\n",
              "      <td>3.5</td>\n",
              "      <td>1391353596</td>\n",
              "      <td>521</td>\n",
              "      <td>1522</td>\n",
              "    </tr>\n",
              "    <tr>\n",
              "      <th>86416</th>\n",
              "      <td>577</td>\n",
              "      <td>7569</td>\n",
              "      <td>5.0</td>\n",
              "      <td>1111476697</td>\n",
              "      <td>576</td>\n",
              "      <td>1402</td>\n",
              "    </tr>\n",
              "    <tr>\n",
              "      <th>68327</th>\n",
              "      <td>475</td>\n",
              "      <td>5478</td>\n",
              "      <td>2.0</td>\n",
              "      <td>1447327895</td>\n",
              "      <td>474</td>\n",
              "      <td>1274</td>\n",
              "    </tr>\n",
              "    <tr>\n",
              "      <th>4884</th>\n",
              "      <td>26</td>\n",
              "      <td>31410</td>\n",
              "      <td>2.0</td>\n",
              "      <td>1352838206</td>\n",
              "      <td>25</td>\n",
              "      <td>2055</td>\n",
              "    </tr>\n",
              "    <tr>\n",
              "      <th>26048</th>\n",
              "      <td>190</td>\n",
              "      <td>2622</td>\n",
              "      <td>4.0</td>\n",
              "      <td>975694759</td>\n",
              "      <td>189</td>\n",
              "      <td>3114</td>\n",
              "    </tr>\n",
              "    <tr>\n",
              "      <th>...</th>\n",
              "      <td>...</td>\n",
              "      <td>...</td>\n",
              "      <td>...</td>\n",
              "      <td>...</td>\n",
              "      <td>...</td>\n",
              "      <td>...</td>\n",
              "    </tr>\n",
              "    <tr>\n",
              "      <th>2397</th>\n",
              "      <td>15</td>\n",
              "      <td>87520</td>\n",
              "      <td>4.5</td>\n",
              "      <td>1316396021</td>\n",
              "      <td>14</td>\n",
              "      <td>1684</td>\n",
              "    </tr>\n",
              "    <tr>\n",
              "      <th>15197</th>\n",
              "      <td>99</td>\n",
              "      <td>2006</td>\n",
              "      <td>3.0</td>\n",
              "      <td>947519629</td>\n",
              "      <td>98</td>\n",
              "      <td>876</td>\n",
              "    </tr>\n",
              "    <tr>\n",
              "      <th>64429</th>\n",
              "      <td>461</td>\n",
              "      <td>2108</td>\n",
              "      <td>2.0</td>\n",
              "      <td>1091959304</td>\n",
              "      <td>460</td>\n",
              "      <td>535</td>\n",
              "    </tr>\n",
              "    <tr>\n",
              "      <th>6510</th>\n",
              "      <td>35</td>\n",
              "      <td>1188</td>\n",
              "      <td>0.5</td>\n",
              "      <td>1174450079</td>\n",
              "      <td>34</td>\n",
              "      <td>2289</td>\n",
              "    </tr>\n",
              "    <tr>\n",
              "      <th>39709</th>\n",
              "      <td>291</td>\n",
              "      <td>47</td>\n",
              "      <td>4.5</td>\n",
              "      <td>1111489466</td>\n",
              "      <td>290</td>\n",
              "      <td>23</td>\n",
              "    </tr>\n",
              "  </tbody>\n",
              "</table>\n",
              "<p>50002 rows × 6 columns</p>\n",
              "</div>\n",
              "      <button class=\"colab-df-convert\" onclick=\"convertToInteractive('df-fdf40efb-cd9c-4fc9-a6b2-1eacaf8961ff')\"\n",
              "              title=\"Convert this dataframe to an interactive table.\"\n",
              "              style=\"display:none;\">\n",
              "        \n",
              "  <svg xmlns=\"http://www.w3.org/2000/svg\" height=\"24px\"viewBox=\"0 0 24 24\"\n",
              "       width=\"24px\">\n",
              "    <path d=\"M0 0h24v24H0V0z\" fill=\"none\"/>\n",
              "    <path d=\"M18.56 5.44l.94 2.06.94-2.06 2.06-.94-2.06-.94-.94-2.06-.94 2.06-2.06.94zm-11 1L8.5 8.5l.94-2.06 2.06-.94-2.06-.94L8.5 2.5l-.94 2.06-2.06.94zm10 10l.94 2.06.94-2.06 2.06-.94-2.06-.94-.94-2.06-.94 2.06-2.06.94z\"/><path d=\"M17.41 7.96l-1.37-1.37c-.4-.4-.92-.59-1.43-.59-.52 0-1.04.2-1.43.59L10.3 9.45l-7.72 7.72c-.78.78-.78 2.05 0 2.83L4 21.41c.39.39.9.59 1.41.59.51 0 1.02-.2 1.41-.59l7.78-7.78 2.81-2.81c.8-.78.8-2.07 0-2.86zM5.41 20L4 18.59l7.72-7.72 1.47 1.35L5.41 20z\"/>\n",
              "  </svg>\n",
              "      </button>\n",
              "      \n",
              "  <style>\n",
              "    .colab-df-container {\n",
              "      display:flex;\n",
              "      flex-wrap:wrap;\n",
              "      gap: 12px;\n",
              "    }\n",
              "\n",
              "    .colab-df-convert {\n",
              "      background-color: #E8F0FE;\n",
              "      border: none;\n",
              "      border-radius: 50%;\n",
              "      cursor: pointer;\n",
              "      display: none;\n",
              "      fill: #1967D2;\n",
              "      height: 32px;\n",
              "      padding: 0 0 0 0;\n",
              "      width: 32px;\n",
              "    }\n",
              "\n",
              "    .colab-df-convert:hover {\n",
              "      background-color: #E2EBFA;\n",
              "      box-shadow: 0px 1px 2px rgba(60, 64, 67, 0.3), 0px 1px 3px 1px rgba(60, 64, 67, 0.15);\n",
              "      fill: #174EA6;\n",
              "    }\n",
              "\n",
              "    [theme=dark] .colab-df-convert {\n",
              "      background-color: #3B4455;\n",
              "      fill: #D2E3FC;\n",
              "    }\n",
              "\n",
              "    [theme=dark] .colab-df-convert:hover {\n",
              "      background-color: #434B5C;\n",
              "      box-shadow: 0px 1px 3px 1px rgba(0, 0, 0, 0.15);\n",
              "      filter: drop-shadow(0px 1px 2px rgba(0, 0, 0, 0.3));\n",
              "      fill: #FFFFFF;\n",
              "    }\n",
              "  </style>\n",
              "\n",
              "      <script>\n",
              "        const buttonEl =\n",
              "          document.querySelector('#df-fdf40efb-cd9c-4fc9-a6b2-1eacaf8961ff button.colab-df-convert');\n",
              "        buttonEl.style.display =\n",
              "          google.colab.kernel.accessAllowed ? 'block' : 'none';\n",
              "\n",
              "        async function convertToInteractive(key) {\n",
              "          const element = document.querySelector('#df-fdf40efb-cd9c-4fc9-a6b2-1eacaf8961ff');\n",
              "          const dataTable =\n",
              "            await google.colab.kernel.invokeFunction('convertToInteractive',\n",
              "                                                     [key], {});\n",
              "          if (!dataTable) return;\n",
              "\n",
              "          const docLinkHtml = 'Like what you see? Visit the ' +\n",
              "            '<a target=\"_blank\" href=https://colab.research.google.com/notebooks/data_table.ipynb>data table notebook</a>'\n",
              "            + ' to learn more about interactive tables.';\n",
              "          element.innerHTML = '';\n",
              "          dataTable['output_type'] = 'display_data';\n",
              "          await google.colab.output.renderOutput(dataTable, element);\n",
              "          const docLink = document.createElement('div');\n",
              "          docLink.innerHTML = docLinkHtml;\n",
              "          element.appendChild(docLink);\n",
              "        }\n",
              "      </script>\n",
              "    </div>\n",
              "  </div>\n",
              "  "
            ]
          },
          "metadata": {},
          "execution_count": 40
        }
      ]
    },
    {
      "cell_type": "code",
      "source": [
        "x = df[[\"user\", \"movie\"]].values\n",
        "x"
      ],
      "metadata": {
        "colab": {
          "base_uri": "https://localhost:8080/"
        },
        "id": "vKhmZZvmO_YA",
        "outputId": "691a0936-c4fe-4b8c-fa97-9103919cc749"
      },
      "execution_count": null,
      "outputs": [
        {
          "output_type": "execute_result",
          "data": {
            "text/plain": [
              "array([[ 127,  165],\n",
              "       [ 664, 9064],\n",
              "       [ 119, 2763],\n",
              "       ...,\n",
              "       [ 531, 2199],\n",
              "       [  11,  346],\n",
              "       [ 101,   17]])"
            ]
          },
          "metadata": {},
          "execution_count": 29
        }
      ]
    },
    {
      "cell_type": "code",
      "source": [
        "y = df[\"rating\"].apply(lambda x: (x - min_rating) / (max_rating - min_rating)).values\n",
        "y"
      ],
      "metadata": {
        "colab": {
          "base_uri": "https://localhost:8080/"
        },
        "id": "GU64Kce8Prof",
        "outputId": "0fd227e1-ba88-4fde-d082-2518cc2e4ddf"
      },
      "execution_count": null,
      "outputs": [
        {
          "output_type": "execute_result",
          "data": {
            "text/plain": [
              "array([1.        , 0.11111111, 0.55555556, ..., 0.66666667, 0.77777778,\n",
              "       0.55555556])"
            ]
          },
          "metadata": {},
          "execution_count": 30
        }
      ]
    },
    {
      "cell_type": "code",
      "source": [
        "train_indices = int(0.8 * df.shape[0])\n",
        "x_train, x_val, y_train, y_val = ( x[:train_indices], x[train_indices:], y[:train_indices],  y[train_indices:],)"
      ],
      "metadata": {
        "id": "zWIumM79O_WM"
      },
      "execution_count": null,
      "outputs": []
    },
    {
      "cell_type": "code",
      "source": [],
      "metadata": {
        "id": "X_mxhwQzPyFk"
      },
      "execution_count": null,
      "outputs": []
    },
    {
      "cell_type": "code",
      "source": [
        "class RecommenderNet(keras.Model):\n",
        "    def __init__(self, num_users, num_movies, embedding_size, **kwargs):\n",
        "        super(RecommenderNet, self).__init__(**kwargs)\n",
        "        self.num_users = num_users\n",
        "        self.num_movies = num_movies\n",
        "        self.embedding_size = embedding_size\n",
        "        self.user_embedding = layers.Embedding(\n",
        "            num_users,\n",
        "            embedding_size,\n",
        "            embeddings_initializer=\"he_normal\",\n",
        "            embeddings_regularizer=keras.regularizers.l2(1e-6),\n",
        "        )\n",
        "        self.user_bias = layers.Embedding(num_users, 1)\n",
        "        self.movie_embedding = layers.Embedding(\n",
        "            num_movies,\n",
        "            embedding_size,\n",
        "            embeddings_initializer=\"he_normal\",\n",
        "            embeddings_regularizer=keras.regularizers.l2(1e-6)\n",
        "        )\n",
        "        self.movie_bias = layers.Embedding(num_movies, 1)\n",
        "        \n",
        "    def call(self, inputs):\n",
        "        user_vector = self.user_embedding(inputs[:, 0])\n",
        "        user_bias = self.user_bias(inputs[:, 0])\n",
        "        movie_vector = self.movie_embedding(inputs[:, 1])\n",
        "        movie_bias = self.movie_bias(inputs[:, 1])\n",
        "        dot_user_movie = tf.tensordot(user_vector, movie_vector, 2)\n",
        "       \n",
        "        x = dot_user_movie + user_bias + movie_bias\n",
        "        return tf.nn.sigmoid(x)\n",
        "    \n"
      ],
      "metadata": {
        "id": "oSFRyx8OPyC4"
      },
      "execution_count": null,
      "outputs": []
    },
    {
      "cell_type": "code",
      "source": [
        "model = RecommenderNet(num_users, num_movies, 50)\n",
        "model.compile(  loss=tf.keras.losses.BinaryCrossentropy(), optimizer=keras.optimizers.Adam(lr=0.001))"
      ],
      "metadata": {
        "id": "IGXucIRGTneM",
        "colab": {
          "base_uri": "https://localhost:8080/"
        },
        "outputId": "1c49adc9-9a6e-4b6f-eca7-6e2a6f84368c"
      },
      "execution_count": null,
      "outputs": [
        {
          "output_type": "stream",
          "name": "stderr",
          "text": [
            "WARNING:absl:`lr` is deprecated, please use `learning_rate` instead, or use the legacy optimizer, e.g.,tf.keras.optimizers.legacy.Adam.\n"
          ]
        }
      ]
    },
    {
      "cell_type": "code",
      "source": [
        "history = model.fit( x=x_train,  y=y_train,batch_size=64, epochs=50, validation_data=(x_val, y_val))"
      ],
      "metadata": {
        "colab": {
          "base_uri": "https://localhost:8080/"
        },
        "id": "4ZckbSxVPyAa",
        "outputId": "55c79e98-b241-4065-947d-aa8c95b35168"
      },
      "execution_count": null,
      "outputs": [
        {
          "output_type": "stream",
          "name": "stdout",
          "text": [
            "Epoch 1/50\n",
            "1251/1251 [==============================] - 12s 9ms/step - loss: 0.6336 - val_loss: 0.6152\n",
            "Epoch 2/50\n",
            "1251/1251 [==============================] - 11s 9ms/step - loss: 0.6078 - val_loss: 0.6130\n",
            "Epoch 3/50\n",
            "1251/1251 [==============================] - 11s 8ms/step - loss: 0.6026 - val_loss: 0.6076\n",
            "Epoch 4/50\n",
            "1251/1251 [==============================] - 11s 9ms/step - loss: 0.6017 - val_loss: 0.6089\n",
            "Epoch 5/50\n",
            "1251/1251 [==============================] - 11s 9ms/step - loss: 0.6005 - val_loss: 0.6077\n",
            "Epoch 6/50\n",
            "1251/1251 [==============================] - 11s 9ms/step - loss: 0.6012 - val_loss: 0.6048\n",
            "Epoch 7/50\n",
            "1251/1251 [==============================] - 10s 8ms/step - loss: 0.6009 - val_loss: 0.6043\n",
            "Epoch 8/50\n",
            "1251/1251 [==============================] - 11s 9ms/step - loss: 0.5997 - val_loss: 0.6038\n",
            "Epoch 9/50\n",
            "1251/1251 [==============================] - 11s 9ms/step - loss: 0.5994 - val_loss: 0.6035\n",
            "Epoch 10/50\n",
            "1251/1251 [==============================] - 12s 9ms/step - loss: 0.5999 - val_loss: 0.6058\n",
            "Epoch 11/50\n",
            "1251/1251 [==============================] - 11s 9ms/step - loss: 0.5980 - val_loss: 0.6065\n",
            "Epoch 12/50\n",
            "1251/1251 [==============================] - 11s 9ms/step - loss: 0.5976 - val_loss: 0.6073\n",
            "Epoch 13/50\n",
            "1251/1251 [==============================] - 11s 9ms/step - loss: 0.5980 - val_loss: 0.6066\n",
            "Epoch 14/50\n",
            "1251/1251 [==============================] - 10s 8ms/step - loss: 0.5979 - val_loss: 0.6074\n",
            "Epoch 15/50\n",
            "1251/1251 [==============================] - 11s 9ms/step - loss: 0.5977 - val_loss: 0.6064\n",
            "Epoch 16/50\n",
            "1251/1251 [==============================] - 11s 9ms/step - loss: 0.5983 - val_loss: 0.6073\n",
            "Epoch 17/50\n",
            "1251/1251 [==============================] - 11s 9ms/step - loss: 0.5976 - val_loss: 0.6075\n",
            "Epoch 18/50\n",
            "1251/1251 [==============================] - 11s 9ms/step - loss: 0.5982 - val_loss: 0.6081\n",
            "Epoch 19/50\n",
            "1251/1251 [==============================] - 11s 9ms/step - loss: 0.5991 - val_loss: 0.6083\n",
            "Epoch 20/50\n",
            "1251/1251 [==============================] - 11s 9ms/step - loss: 0.5990 - val_loss: 0.6073\n",
            "Epoch 21/50\n",
            "1251/1251 [==============================] - 10s 8ms/step - loss: 0.5993 - val_loss: 0.6070\n",
            "Epoch 22/50\n",
            "1251/1251 [==============================] - 11s 9ms/step - loss: 0.5980 - val_loss: 0.6078\n",
            "Epoch 23/50\n",
            "1251/1251 [==============================] - 11s 9ms/step - loss: 0.5971 - val_loss: 0.6055\n",
            "Epoch 24/50\n",
            "1251/1251 [==============================] - 12s 10ms/step - loss: 0.5992 - val_loss: 0.6078\n",
            "Epoch 25/50\n",
            "1251/1251 [==============================] - 11s 9ms/step - loss: 0.5979 - val_loss: 0.6054\n",
            "Epoch 26/50\n",
            "1251/1251 [==============================] - 11s 9ms/step - loss: 0.5996 - val_loss: 0.6057\n",
            "Epoch 27/50\n",
            "1251/1251 [==============================] - 11s 9ms/step - loss: 0.5987 - val_loss: 0.6087\n",
            "Epoch 28/50\n",
            "1251/1251 [==============================] - 11s 9ms/step - loss: 0.6013 - val_loss: 0.6086\n",
            "Epoch 29/50\n",
            "1251/1251 [==============================] - 11s 9ms/step - loss: 0.6000 - val_loss: 0.6079\n",
            "Epoch 30/50\n",
            "1251/1251 [==============================] - 12s 9ms/step - loss: 0.5996 - val_loss: 0.6069\n",
            "Epoch 31/50\n",
            "1251/1251 [==============================] - 12s 10ms/step - loss: 0.6003 - val_loss: 0.6087\n",
            "Epoch 32/50\n",
            "1251/1251 [==============================] - 12s 9ms/step - loss: 0.5992 - val_loss: 0.6089\n",
            "Epoch 33/50\n",
            "1251/1251 [==============================] - 11s 9ms/step - loss: 0.5993 - val_loss: 0.6076\n",
            "Epoch 34/50\n",
            "1251/1251 [==============================] - 11s 9ms/step - loss: 0.5992 - val_loss: 0.6097\n",
            "Epoch 35/50\n",
            "1251/1251 [==============================] - 11s 9ms/step - loss: 0.5987 - val_loss: 0.6082\n",
            "Epoch 36/50\n",
            "1251/1251 [==============================] - 11s 9ms/step - loss: 0.5999 - val_loss: 0.6089\n",
            "Epoch 37/50\n",
            "1251/1251 [==============================] - 10s 8ms/step - loss: 0.5999 - val_loss: 0.6090\n",
            "Epoch 38/50\n",
            "1251/1251 [==============================] - 11s 9ms/step - loss: 0.6007 - val_loss: 0.6094\n",
            "Epoch 39/50\n",
            "1251/1251 [==============================] - 11s 9ms/step - loss: 0.6008 - val_loss: 0.6092\n",
            "Epoch 40/50\n",
            "1251/1251 [==============================] - 11s 9ms/step - loss: 0.6007 - val_loss: 0.6092\n",
            "Epoch 41/50\n",
            "1251/1251 [==============================] - 11s 9ms/step - loss: 0.5995 - val_loss: 0.6089\n",
            "Epoch 42/50\n",
            "1251/1251 [==============================] - 11s 9ms/step - loss: 0.6003 - val_loss: 0.6094\n",
            "Epoch 43/50\n",
            "1251/1251 [==============================] - 10s 8ms/step - loss: 0.5988 - val_loss: 0.6122\n",
            "Epoch 44/50\n",
            "1251/1251 [==============================] - 10s 8ms/step - loss: 0.5999 - val_loss: 0.6097\n",
            "Epoch 45/50\n",
            "1251/1251 [==============================] - 11s 9ms/step - loss: 0.6000 - val_loss: 0.6140\n",
            "Epoch 46/50\n",
            "1251/1251 [==============================] - 10s 8ms/step - loss: 0.6008 - val_loss: 0.6092\n",
            "Epoch 47/50\n",
            "1251/1251 [==============================] - 11s 9ms/step - loss: 0.6001 - val_loss: 0.6124\n",
            "Epoch 48/50\n",
            "1251/1251 [==============================] - 11s 9ms/step - loss: 0.6005 - val_loss: 0.6090\n",
            "Epoch 49/50\n",
            "1251/1251 [==============================] - 10s 8ms/step - loss: 0.6011 - val_loss: 0.6120\n",
            "Epoch 50/50\n",
            "1251/1251 [==============================] - 11s 8ms/step - loss: 0.6011 - val_loss: 0.6098\n"
          ]
        }
      ]
    },
    {
      "cell_type": "code",
      "source": [
        "plt.plot(history.history['loss'], label='loss')\n",
        "plt.plot(history.history['val_loss'], label='val_loss')\n",
        "plt.title('model_loss')\n",
        "plt.ylabel('loss')\n",
        "plt.xlabel('epoch')\n",
        "plt.legend()"
      ],
      "metadata": {
        "colab": {
          "base_uri": "https://localhost:8080/",
          "height": 312
        },
        "id": "PrTXXytEPx-W",
        "outputId": "376835dc-00f8-4725-d55f-30a2dd7a8ef8"
      },
      "execution_count": null,
      "outputs": [
        {
          "output_type": "execute_result",
          "data": {
            "text/plain": [
              "<matplotlib.legend.Legend at 0x7f7e9fa71e80>"
            ]
          },
          "metadata": {},
          "execution_count": 44
        },
        {
          "output_type": "display_data",
          "data": {
            "text/plain": [
              "<Figure size 432x288 with 1 Axes>"
            ],
            "image/png": "[encoded data removed]"
          },
          "metadata": {
            "needs_background": "light"
          }
        }
      ]
    },
    {
      "cell_type": "code",
      "source": [
        "movie_df = pd.read_csv('/content/movies.csv')\n",
        "\n",
        "user_id = df.userId.sample(1).iloc[0]\n",
        "movies_watched_by_user = df[df.userId == user_id]\n",
        "movies_not_watched = movie_df[~movie_df['movieId'].isin(movies_watched_by_user.movieId.values)]['movieId']\n",
        "\n",
        "movies_not_watched = list(set(movies_not_watched).intersection(set(movie2movie_encoded.keys())))\n",
        "\n",
        "movies_not_watched = [[movie2movie_encoded.get(x)] for x in movies_not_watched]\n",
        "\n",
        "user_encoder = user2user_encoded.get(user_id)\n",
        "\n",
        "user_movie_array = np.hstack([[user_encoder]] * len(movies_not_watched), movies_not_watched))\n",
        "\n",
        "ratings = model.predict(user_movie_array).flatten()\n",
        "top_ratings_indices = ratings.argsort()[-5:][::-1]\n",
        "recommended_movie_ids = [ movie_encoded2movie.get(movies_not_watched[x][0]) for x in top_ratings_indices]"
      ],
      "metadata": {
        "colab": {
          "base_uri": "https://localhost:8080/"
        },
        "id": "Xc2i6FF8Px7z",
        "outputId": "0b65a887-b908-4685-e4a9-14800978b602"
      },
      "execution_count": null,
      "outputs": [
        {
          "output_type": "stream",
          "name": "stdout",
          "text": [
            "281/281 [==============================] - 0s 2ms/step\n"
          ]
        }
      ]
    },
    {
      "cell_type": "code",
      "source": [
        "print(\"Movies with high ratings from user\")\n",
        "top_movies_user = (movies_watched_by_user.sort_values(by=\"rating\", ascending=False).head(5).movieId.values)\n",
        "movie_df_rows = movie_df[movie_df[\"movieId\"].isin(top_movies_user)]\n",
        "\n",
        "for row in movie_df_rows.itertuples():\n",
        "    print(row.title, \":\", row.genres)"
      ],
      "metadata": {
        "colab": {
          "base_uri": "https://localhost:8080/"
        },
        "id": "00GT49mWPx5Y",
        "outputId": "354c77f7-9675-43d2-cddc-8a601c43e5bd"
      },
      "execution_count": null,
      "outputs": [
        {
          "output_type": "stream",
          "name": "stdout",
          "text": [
            "Movies with high ratings from user\n",
            "Forget Paris (1995) : Comedy|Romance\n",
            "Outbreak (1995) : Action|Drama|Sci-Fi|Thriller\n",
            "Game, The (1997) : Drama|Mystery|Thriller\n",
            "Charlotte's Web (1973) : Animation|Children\n",
            "Beautiful Mind, A (2001) : Drama|Romance\n"
          ]
        }
      ]
    },
    {
      "cell_type": "code",
      "source": [
        "print(\"Top 5 movie recommendations\")\n",
        "recommended_movies = movie_df[movie_df[\"movieId\"].isin(recommended_movie_ids)]\n",
        "for row in recommended_movies.itertuples():\n",
        "    print(row.title, \":\", row.genres)"
      ],
      "metadata": {
        "colab": {
          "base_uri": "https://localhost:8080/"
        },
        "id": "JGobhaNKQjWq",
        "outputId": "66010857-2a4c-484e-e73e-0e8acffa1b9c"
      },
      "execution_count": null,
      "outputs": [
        {
          "output_type": "stream",
          "name": "stdout",
          "text": [
            "Top 10 movie recommendations\n",
            "Anne Frank Remembered (1995) : Documentary\n",
            "Face in the Crowd, A (1957) : Drama\n",
            "Step Into Liquid (2002) : Documentary\n",
            "Ikiru (1952) : Drama\n",
            "Paperman (2012) : Animation|Comedy|Romance\n"
          ]
        }
      ]
    },
    {
      "cell_type": "code",
      "source": [],
      "metadata": {
        "id": "qF698aSUNNWV"
      },
      "execution_count": null,
      "outputs": []
    }
  ]
}